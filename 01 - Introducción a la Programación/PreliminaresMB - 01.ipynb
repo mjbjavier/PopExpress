{
  "cells": [
    {
      "cell_type": "markdown",
      "metadata": {
        "id": "view-in-github",
        "colab_type": "text"
      },
      "source": [
        "<a href=\"https://colab.research.google.com/github/mjbjavier/PopExpress/blob/main/01%20-%20Introducci%C3%B3n%20a%20la%20Programaci%C3%B3n/PreliminaresMB%20-%2001.ipynb\" target=\"_parent\"><img src=\"https://colab.research.google.com/assets/colab-badge.svg\" alt=\"Open In Colab\"/></a>"
      ]
    },
    {
      "cell_type": "markdown",
      "metadata": {
        "id": "6T-K9wbAnDwe"
      },
      "source": [
        "## Variables"
      ]
    },
    {
      "cell_type": "code",
      "source": [
        "#Tipos de datos\n",
        "\n",
        "miVariable = 123\n",
        "miVariable1 = 'Mi'\n",
        "miVariable2 = 12.3\n",
        "miVariable3 = \" nombre es:\"\n",
        "miVariable4 = True\n",
        "miVariable5 = False\n",
        "miVariable6 = 12 + 1j\n",
        "\n",
        "print(type(miVariable))\n",
        "print(type(miVariable1))\n",
        "print(type(miVariable2))\n",
        "print(type(miVariable3))\n",
        "print(type(miVariable4))\n",
        "print(type(miVariable5))\n",
        "print(type(miVariable6))"
      ],
      "metadata": {
        "colab": {
          "base_uri": "https://localhost:8080/"
        },
        "id": "vWML69s0qIV0",
        "outputId": "67ef3761-bc88-4193-dfba-2ecb97be8c03"
      },
      "execution_count": 31,
      "outputs": [
        {
          "output_type": "stream",
          "name": "stdout",
          "text": [
            "<class 'int'>\n",
            "<class 'str'>\n",
            "<class 'float'>\n",
            "<class 'str'>\n",
            "<class 'bool'>\n",
            "<class 'bool'>\n",
            "<class 'complex'>\n"
          ]
        }
      ]
    },
    {
      "cell_type": "code",
      "source": [
        "#operaciones\n",
        "miVariable + 10\n",
        "miVariable + miVariable2\n",
        "miVariable2 ** 2\n",
        "miVariable / 4\n",
        "miVariable // 4\n",
        "miVariable % 4\n",
        "miVariable1 + miVariable3\n",
        "#operaciones relacionales\n",
        "miVariable2 == 6\n",
        "miVariable2 < 20\n",
        "miVariable2 != 20"
      ],
      "metadata": {
        "colab": {
          "base_uri": "https://localhost:8080/"
        },
        "id": "8WhOFdllxxI9",
        "outputId": "e5412035-80b8-4d0c-9870-3b369cbc3425"
      },
      "execution_count": 38,
      "outputs": [
        {
          "output_type": "execute_result",
          "data": {
            "text/plain": [
              "True"
            ]
          },
          "metadata": {},
          "execution_count": 38
        }
      ]
    },
    {
      "cell_type": "code",
      "source": [
        "miVar = False\n",
        "miVar1 = True"
      ],
      "metadata": {
        "id": "P8eXypbh2Ih2"
      },
      "execution_count": 41,
      "outputs": []
    },
    {
      "cell_type": "code",
      "source": [
        "#operaciones aritmeticas lógicas (and - or) - tablas de verdad\n",
        "miVar or miVar1\n",
        "miVar and miVar1"
      ],
      "metadata": {
        "colab": {
          "base_uri": "https://localhost:8080/"
        },
        "id": "VfzFPdX12TDg",
        "outputId": "76fc6b5b-2f7f-440c-aca8-1c8e4fa01a5f"
      },
      "execution_count": 43,
      "outputs": [
        {
          "output_type": "execute_result",
          "data": {
            "text/plain": [
              "False"
            ]
          },
          "metadata": {},
          "execution_count": 43
        }
      ]
    },
    {
      "cell_type": "code",
      "source": [
        "miVar2 = '15.2'\n",
        "miVar3 = 10"
      ],
      "metadata": {
        "id": "dtvcMMF83ygs"
      },
      "execution_count": 44,
      "outputs": []
    },
    {
      "cell_type": "code",
      "source": [
        "print(type(miVar2))"
      ],
      "metadata": {
        "colab": {
          "base_uri": "https://localhost:8080/"
        },
        "id": "aCCLMTxD4Y2I",
        "outputId": "b44d4a32-84a2-45ef-a7c5-7003c977077e"
      },
      "execution_count": 46,
      "outputs": [
        {
          "output_type": "stream",
          "name": "stdout",
          "text": [
            "<class 'str'>\n"
          ]
        }
      ]
    },
    {
      "cell_type": "code",
      "source": [
        "print(float(miVar2) + miVar3) #Con float cambio el tipo de dato de str a float para operarlo"
      ],
      "metadata": {
        "colab": {
          "base_uri": "https://localhost:8080/"
        },
        "id": "-T6M0XMp39Y6",
        "outputId": "fa77752b-b277-4886-95f1-7fbab43f7523"
      },
      "execution_count": 45,
      "outputs": [
        {
          "output_type": "stream",
          "name": "stdout",
          "text": [
            "25.2\n"
          ]
        }
      ]
    },
    {
      "cell_type": "code",
      "execution_count": 4,
      "metadata": {
        "colab": {
          "base_uri": "https://localhost:8080/"
        },
        "id": "BBeK6DfRnDwo",
        "outputId": "39994dd1-96e9-48d9-9b3c-8844a74457e7"
      },
      "outputs": [
        {
          "output_type": "stream",
          "name": "stdout",
          "text": [
            "Hola Mundo !\n"
          ]
        }
      ],
      "source": [
        "a = 'Hola '\n",
        "b = 'Mundo !'\n",
        "print(a + b)"
      ]
    },
    {
      "cell_type": "code",
      "execution_count": 5,
      "metadata": {
        "colab": {
          "base_uri": "https://localhost:8080/"
        },
        "id": "zPDZmvSHnDws",
        "outputId": "56b5788c-398a-4d83-c632-10325c4fe1ed"
      },
      "outputs": [
        {
          "output_type": "stream",
          "name": "stdout",
          "text": [
            "15\n"
          ]
        }
      ],
      "source": [
        "x = 3\n",
        "y = 12\n",
        "print(x + y)"
      ]
    },
    {
      "cell_type": "code",
      "execution_count": null,
      "metadata": {
        "id": "6Cav6lJJnDwt",
        "outputId": "435f2335-a55e-45fe-d089-a84c327c0f67"
      },
      "outputs": [
        {
          "ename": "TypeError",
          "evalue": "can only concatenate str (not \"int\") to str",
          "output_type": "error",
          "traceback": [
            "\u001b[1;31m---------------------------------------------------------------------------\u001b[0m",
            "\u001b[1;31mTypeError\u001b[0m                                 Traceback (most recent call last)",
            "\u001b[1;32m~\\AppData\\Local\\Temp/ipykernel_18232/136165486.py\u001b[0m in \u001b[0;36m<module>\u001b[1;34m\u001b[0m\n\u001b[1;32m----> 1\u001b[1;33m \u001b[0mprint\u001b[0m\u001b[1;33m(\u001b[0m\u001b[0ma\u001b[0m \u001b[1;33m+\u001b[0m \u001b[0mx\u001b[0m\u001b[1;33m)\u001b[0m\u001b[1;33m\u001b[0m\u001b[1;33m\u001b[0m\u001b[0m\n\u001b[0m",
            "\u001b[1;31mTypeError\u001b[0m: can only concatenate str (not \"int\") to str"
          ]
        }
      ],
      "source": [
        "print(a + x)"
      ]
    },
    {
      "cell_type": "code",
      "execution_count": null,
      "metadata": {
        "id": "V1sNiV5gnDwu",
        "outputId": "8f8dab72-3082-4def-c12e-29349181195b"
      },
      "outputs": [
        {
          "name": "stdout",
          "output_type": "stream",
          "text": [
            "3.0\n"
          ]
        }
      ],
      "source": [
        "# Dividir \"y\" entre \"x\"\n",
        "y = 9\n",
        "x = 3\n",
        "print(y/x)"
      ]
    },
    {
      "cell_type": "code",
      "execution_count": null,
      "metadata": {
        "id": "BRCGJk97nDwv",
        "outputId": "2df91bea-4949-456c-eec1-fb1d0631fd20"
      },
      "outputs": [
        {
          "name": "stdout",
          "output_type": "stream",
          "text": [
            "16\n"
          ]
        }
      ],
      "source": [
        "# Potencia de \"y\" elevado a la \"x\"\n",
        "y = 2\n",
        "x = 4\n",
        "print(y**x)"
      ]
    },
    {
      "cell_type": "code",
      "execution_count": null,
      "metadata": {
        "id": "iybV_oHTnDww",
        "outputId": "2045f8f9-75f4-470b-d844-58f420d6d708"
      },
      "outputs": [
        {
          "name": "stdout",
          "output_type": "stream",
          "text": [
            "1\n"
          ]
        }
      ],
      "source": [
        "# Devolver el resto de la división\n",
        "y = 13\n",
        "x = 3\n",
        "print(y%x)"
      ]
    },
    {
      "cell_type": "code",
      "execution_count": null,
      "metadata": {
        "id": "1D9mX7-ynDwy",
        "outputId": "3135c132-05d0-49ee-b8d8-242fbbba6ab8"
      },
      "outputs": [
        {
          "name": "stdout",
          "output_type": "stream",
          "text": [
            "El número es igual a cero\n"
          ]
        }
      ],
      "source": [
        "valor = 0\n",
        "if (valor < 0):\n",
        "    print('El número es negativo')\n",
        "elif (valor > 0):\n",
        "    print('El número es positivo')\n",
        "else:\n",
        "    print('El número es igual a cero')"
      ]
    },
    {
      "cell_type": "code",
      "execution_count": null,
      "metadata": {
        "id": "RtAGdY3SnDwz",
        "outputId": "3a8130c6-4917-4b16-8563-8824054323ed"
      },
      "outputs": [
        {
          "name": "stdout",
          "output_type": "stream",
          "text": [
            "1\n",
            "2\n",
            "3\n",
            "4\n",
            "5\n",
            "6\n",
            "7\n",
            "8\n",
            "9\n"
          ]
        }
      ],
      "source": [
        "for n in range(1,10):\n",
        "    print(n)"
      ]
    },
    {
      "cell_type": "code",
      "execution_count": null,
      "metadata": {
        "id": "yJF4JcFInDw1",
        "outputId": "d2372ab0-6957-41ef-ab59-5053b60aa230"
      },
      "outputs": [
        {
          "name": "stdout",
          "output_type": "stream",
          "text": [
            "1\n",
            "2\n",
            "3\n",
            "4\n",
            "5\n",
            "6\n",
            "7\n",
            "8\n",
            "9\n"
          ]
        }
      ],
      "source": [
        "n = 1\n",
        "while (n < 10):\n",
        "    print(n)\n",
        "    n = n + 1"
      ]
    },
    {
      "cell_type": "code",
      "execution_count": null,
      "metadata": {
        "id": "9mH2_rlInDw2",
        "outputId": "8881f143-dac6-4946-cb48-21414bb7f03d"
      },
      "outputs": [
        {
          "name": "stdout",
          "output_type": "stream",
          "text": [
            "5\n"
          ]
        }
      ],
      "source": [
        "edad = (3,1,0.2,8,7)\n",
        "print(len(edad))"
      ]
    },
    {
      "cell_type": "markdown",
      "metadata": {
        "id": "ocpT51nxnDw3"
      },
      "source": [
        "Listas"
      ]
    },
    {
      "cell_type": "code",
      "execution_count": null,
      "metadata": {
        "id": "qWhfqv5MnDw3"
      },
      "outputs": [],
      "source": [
        "mi_lista = ['Rojo','Azul','Amarillo','Naranja','Violeta','Verde']"
      ]
    },
    {
      "cell_type": "code",
      "execution_count": null,
      "metadata": {
        "id": "Fv34xUQrnDw4",
        "outputId": "e351f9c2-f0c8-4af5-c6ce-afa1fc195649"
      },
      "outputs": [
        {
          "data": {
            "text/plain": [
              "list"
            ]
          },
          "execution_count": 39,
          "metadata": {},
          "output_type": "execute_result"
        }
      ],
      "source": [
        "type(mi_lista)"
      ]
    },
    {
      "cell_type": "code",
      "execution_count": null,
      "metadata": {
        "id": "xCr5nbLTnDw5",
        "outputId": "39b2a621-6e1b-47ce-ceef-fc6dba2d09a5"
      },
      "outputs": [
        {
          "name": "stdout",
          "output_type": "stream",
          "text": [
            "['Rojo', 'Azul', 'Amarillo', 'Negro', 'Naranja', 'Violeta', 'Verde']\n"
          ]
        }
      ],
      "source": [
        "print(mi_lista)"
      ]
    },
    {
      "cell_type": "code",
      "execution_count": null,
      "metadata": {
        "id": "1DRUdk7lnDw5",
        "outputId": "bec4585c-2edb-41fd-f897-b4f74ae77d5f"
      },
      "outputs": [
        {
          "name": "stdout",
          "output_type": "stream",
          "text": [
            "['Rojo', 'Azul']\n"
          ]
        }
      ],
      "source": [
        "print(mi_lista[0:2])"
      ]
    },
    {
      "cell_type": "code",
      "execution_count": null,
      "metadata": {
        "id": "zTRoWIM7nDw7",
        "outputId": "aef0a13e-4390-495e-cc5d-aa7710095ef8"
      },
      "outputs": [
        {
          "name": "stdout",
          "output_type": "stream",
          "text": [
            "['Rojo', 'Azul']\n"
          ]
        }
      ],
      "source": [
        "print(mi_lista[:2])"
      ]
    },
    {
      "cell_type": "code",
      "execution_count": null,
      "metadata": {
        "id": "0c-7_K-9nDw7",
        "outputId": "35cb3f15-823b-4a1d-f94b-2dba49f429c0"
      },
      "outputs": [
        {
          "name": "stdout",
          "output_type": "stream",
          "text": [
            "['Azul', 'Amarillo']\n"
          ]
        }
      ],
      "source": [
        "print(mi_lista[1:])"
      ]
    },
    {
      "cell_type": "code",
      "execution_count": null,
      "metadata": {
        "id": "m2-OKdOdnDw8"
      },
      "outputs": [],
      "source": [
        "mi_lista.insert(3,'Negro')"
      ]
    },
    {
      "cell_type": "code",
      "execution_count": null,
      "metadata": {
        "id": "bS13DPHAnDw9",
        "outputId": "90cfac27-b61f-4be9-9203-d6558d2cb75a"
      },
      "outputs": [
        {
          "name": "stdout",
          "output_type": "stream",
          "text": [
            "1\n"
          ]
        }
      ],
      "source": [
        "print(mi_lista.index('Azul'))"
      ]
    },
    {
      "cell_type": "code",
      "execution_count": null,
      "metadata": {
        "id": "FRiiBk8knDw9"
      },
      "outputs": [],
      "source": [
        "mi_lista.insert(3,'Negro')"
      ]
    },
    {
      "cell_type": "code",
      "execution_count": null,
      "metadata": {
        "id": "fW-ne-H2nDw-"
      },
      "outputs": [],
      "source": [
        "mi_lista.extend(['Marrón','Gris'])"
      ]
    },
    {
      "cell_type": "code",
      "execution_count": null,
      "metadata": {
        "id": "Z8F9mOYwnDw-",
        "outputId": "f8c7d8c9-daf5-40ac-8ef3-db29331d13f3"
      },
      "outputs": [
        {
          "name": "stdout",
          "output_type": "stream",
          "text": [
            "['a', 'b', 'c', 'a', 'b', 'c', 'a', 'b', 'c']\n"
          ]
        }
      ],
      "source": [
        "print(['a','b','c'] * 3)"
      ]
    },
    {
      "cell_type": "code",
      "execution_count": null,
      "metadata": {
        "id": "Ps7DeKc1nDw_",
        "outputId": "526d8c19-1d30-4709-e1a0-dfa653e2a32a"
      },
      "outputs": [
        {
          "name": "stdout",
          "output_type": "stream",
          "text": [
            "1\n"
          ]
        }
      ],
      "source": [
        "print(mi_lista.index('Azul'))"
      ]
    },
    {
      "cell_type": "code",
      "execution_count": null,
      "metadata": {
        "id": "8aAv6S3DnDw_",
        "outputId": "96c16885-deea-4b71-c26d-d81b0525f983"
      },
      "outputs": [
        {
          "ename": "ValueError",
          "evalue": "list.remove(x): x not in list",
          "output_type": "error",
          "traceback": [
            "\u001b[1;31m---------------------------------------------------------------------------\u001b[0m",
            "\u001b[1;31mValueError\u001b[0m                                Traceback (most recent call last)",
            "\u001b[1;32m~\\AppData\\Local\\Temp/ipykernel_10044/2480624766.py\u001b[0m in \u001b[0;36m<module>\u001b[1;34m\u001b[0m\n\u001b[1;32m----> 1\u001b[1;33m \u001b[0mmi_lista\u001b[0m\u001b[1;33m.\u001b[0m\u001b[0mremove\u001b[0m\u001b[1;33m(\u001b[0m\u001b[1;34m'Blanco'\u001b[0m\u001b[1;33m)\u001b[0m\u001b[1;33m\u001b[0m\u001b[1;33m\u001b[0m\u001b[0m\n\u001b[0m",
            "\u001b[1;31mValueError\u001b[0m: list.remove(x): x not in list"
          ]
        }
      ],
      "source": [
        "mi_lista.remove('Blanco')"
      ]
    },
    {
      "cell_type": "code",
      "execution_count": null,
      "metadata": {
        "id": "eAVwSwjSnDxA",
        "outputId": "fd0c51fa-170e-43b3-877e-d755b418c302"
      },
      "outputs": [
        {
          "ename": "ValueError",
          "evalue": "list.remove(x): x not in list",
          "output_type": "error",
          "traceback": [
            "\u001b[1;31m---------------------------------------------------------------------------\u001b[0m",
            "\u001b[1;31mValueError\u001b[0m                                Traceback (most recent call last)",
            "\u001b[1;32m~\\AppData\\Local\\Temp/ipykernel_10044/298389232.py\u001b[0m in \u001b[0;36m<module>\u001b[1;34m\u001b[0m\n\u001b[1;32m----> 1\u001b[1;33m \u001b[0mmi_lista\u001b[0m\u001b[1;33m.\u001b[0m\u001b[0mremove\u001b[0m\u001b[1;33m(\u001b[0m\u001b[1;34m'Negro'\u001b[0m\u001b[1;33m)\u001b[0m\u001b[1;33m\u001b[0m\u001b[1;33m\u001b[0m\u001b[0m\n\u001b[0m",
            "\u001b[1;31mValueError\u001b[0m: list.remove(x): x not in list"
          ]
        }
      ],
      "source": [
        "mi_lista.remove('Negro')"
      ]
    },
    {
      "cell_type": "code",
      "execution_count": null,
      "metadata": {
        "id": "9egboK7gnDxA"
      },
      "outputs": [],
      "source": [
        "ultimo = mi_lista.pop()"
      ]
    },
    {
      "cell_type": "code",
      "execution_count": null,
      "metadata": {
        "id": "nGBxGxfZnDxB",
        "outputId": "11413c87-6a64-4dfa-98bd-6f49677e5dad"
      },
      "outputs": [
        {
          "name": "stdout",
          "output_type": "stream",
          "text": [
            "Gris\n"
          ]
        }
      ],
      "source": [
        "ultimo = mi_lista.pop()\n",
        "print(ultimo)"
      ]
    },
    {
      "cell_type": "code",
      "execution_count": null,
      "metadata": {
        "id": "U6V90P6knDxB"
      },
      "outputs": [],
      "source": [
        "ultimo = mi_lista.pop()"
      ]
    },
    {
      "cell_type": "code",
      "execution_count": null,
      "metadata": {
        "id": "n36LW7-6nDxB",
        "outputId": "5aa83b68-05e3-46b0-a34b-d327f89d713b"
      },
      "outputs": [
        {
          "data": {
            "text/plain": [
              "'Amarillo'"
            ]
          },
          "execution_count": 35,
          "metadata": {},
          "output_type": "execute_result"
        }
      ],
      "source": [
        "ultimo"
      ]
    },
    {
      "cell_type": "code",
      "execution_count": null,
      "metadata": {
        "id": "CNDS1t8ynDxC"
      },
      "outputs": [],
      "source": [
        "mi_tupla=tuple(mi_lista)"
      ]
    },
    {
      "cell_type": "code",
      "execution_count": null,
      "metadata": {
        "id": "CaMb1QeDnDxC",
        "outputId": "6a87ade9-05e4-42fa-f257-1899165a37ea"
      },
      "outputs": [
        {
          "name": "stdout",
          "output_type": "stream",
          "text": [
            "Azul\n"
          ]
        }
      ],
      "source": [
        "print(mi_tupla[1])"
      ]
    },
    {
      "cell_type": "code",
      "execution_count": null,
      "metadata": {
        "id": "KCbtk3XUnDxC",
        "outputId": "3acb3cde-7552-49a8-8890-59fdaf5b6a5b"
      },
      "outputs": [
        {
          "data": {
            "text/plain": [
              "True"
            ]
          },
          "execution_count": 74,
          "metadata": {},
          "output_type": "execute_result"
        }
      ],
      "source": [
        "'Rojo' in mi_tupla"
      ]
    },
    {
      "cell_type": "code",
      "execution_count": null,
      "metadata": {
        "id": "NqKlROSinDxD",
        "outputId": "ab1a1e2b-463b-48e7-bdbb-74c208d7a58d"
      },
      "outputs": [
        {
          "data": {
            "text/plain": [
              "1"
            ]
          },
          "execution_count": 75,
          "metadata": {},
          "output_type": "execute_result"
        }
      ],
      "source": [
        " mi_tupla.count('Rojo')"
      ]
    },
    {
      "cell_type": "code",
      "execution_count": null,
      "metadata": {
        "id": "tkUkD-mwnDxD",
        "outputId": "7ac3cecf-00f0-43d5-df52-0fb5e1ebe87e"
      },
      "outputs": [
        {
          "name": "stdout",
          "output_type": "stream",
          "text": [
            "['Rojo', 'Azul', 'Amarillo', 'Negro', 'Marrón', 'Gris', 'Rojo', 'Azul', 'Amarillo', 'Negro', 'Marrón', 'Gris', 'Rojo', 'Azul', 'Amarillo', 'Negro', 'Marrón', 'Gris']\n"
          ]
        }
      ],
      "source": [
        "print(mi_lista[:] * 3)"
      ]
    },
    {
      "cell_type": "code",
      "execution_count": null,
      "metadata": {
        "id": "LZZiaAUVnDxD",
        "outputId": "250fb6ae-f177-441f-97cc-7bc755eb1a08"
      },
      "outputs": [
        {
          "data": {
            "text/plain": [
              "1"
            ]
          },
          "execution_count": 55,
          "metadata": {},
          "output_type": "execute_result"
        }
      ],
      "source": [
        "mi_tupla.count('Rojo')"
      ]
    },
    {
      "cell_type": "code",
      "execution_count": null,
      "metadata": {
        "id": "X9POhcg-nDxE"
      },
      "outputs": [],
      "source": [
        "mi_tupla='Gaspar', 5, 8, 1999"
      ]
    },
    {
      "cell_type": "code",
      "execution_count": null,
      "metadata": {
        "id": "efR2FX8FnDxE",
        "outputId": "2e5cc7cc-b3bf-48df-b232-8704951251fb"
      },
      "outputs": [
        {
          "name": "stdout",
          "output_type": "stream",
          "text": [
            "Nombre:  Gaspar  - Dia: 5  - Mes:  8  - Año:  1999\n"
          ]
        }
      ],
      "source": [
        "nombre, dia, mes, año = mi_tupla\n",
        "print(\"Nombre: \", nombre, \" - Dia:\", dia, \" - Mes: \", mes, \" - Año: \", año)"
      ]
    },
    {
      "cell_type": "code",
      "execution_count": null,
      "metadata": {
        "id": "4h1_6oapnDxF",
        "outputId": "9b9e9315-3fbd-435a-eebd-6fcf33b8c718"
      },
      "outputs": [
        {
          "name": "stdout",
          "output_type": "stream",
          "text": [
            "Darío 39\n",
            "Mi nombre es Darío . Mi edad es 39 años\n",
            "Mi nombre es Darío. Mi edad es 39 años\n"
          ]
        }
      ],
      "source": [
        "nombre = 'Darío'\n",
        "edad = 39\n",
        "print(nombre, edad)\n",
        "print(\"Mi nombre es\", nombre, \". Mi edad es\", edad, \"años\")\n",
        "print(\"Mi nombre es {}. Mi edad es {} años\". format(nombre, edad))"
      ]
    },
    {
      "cell_type": "code",
      "execution_count": null,
      "metadata": {
        "id": "1ft_YErjnDxF"
      },
      "outputs": [],
      "source": [
        "mi_diccionario = {  'Colores Primarios': ['Rojo','Azul','Amarillo'], \n",
        "                    'Colores secundarios': ['Naranja','Violeta','Verde'], \n",
        "                    'Clave3': 10,\n",
        "                    'Clave4': False}"
      ]
    },
    {
      "cell_type": "code",
      "execution_count": null,
      "metadata": {
        "id": "FrZ_Ast7nDxF",
        "outputId": "a56630a0-4b84-4d93-a4a6-7a19d8b1551c"
      },
      "outputs": [
        {
          "name": "stdout",
          "output_type": "stream",
          "text": [
            "['Naranja', 'Violeta', 'Verde']\n"
          ]
        }
      ],
      "source": [
        "print(mi_diccionario['Colores secundarios'])"
      ]
    },
    {
      "cell_type": "code",
      "execution_count": null,
      "metadata": {
        "id": "BowkGPEZnDxG"
      },
      "outputs": [],
      "source": [
        "mi_diccionario={'Clave1':'Valor1', 'Clave2':{'numeros':[1,2,3,4,5]}}"
      ]
    },
    {
      "cell_type": "code",
      "execution_count": null,
      "metadata": {
        "id": "TYxnDHrEnDxG",
        "outputId": "21c641a4-3287-41ab-e05a-f38223b9fcdd"
      },
      "outputs": [
        {
          "name": "stdout",
          "output_type": "stream",
          "text": [
            "dict_keys(['Clave1', 'Clave2'])\n"
          ]
        }
      ],
      "source": [
        "print(mi_diccionario.keys())"
      ]
    },
    {
      "cell_type": "code",
      "execution_count": null,
      "metadata": {
        "id": "yGT-hhY8nDxG",
        "outputId": "e0c7e1c6-7247-4a15-c719-80719d7fdb6c"
      },
      "outputs": [
        {
          "name": "stdout",
          "output_type": "stream",
          "text": [
            "dict_values(['Valor1', {'numeros': [1, 2, 3, 4, 5]}])\n"
          ]
        }
      ],
      "source": [
        "print(mi_diccionario.values())"
      ]
    },
    {
      "cell_type": "code",
      "execution_count": null,
      "metadata": {
        "id": "wV-cmMsYnDxH",
        "outputId": "03af1322-42f0-4111-a753-517576c146e8"
      },
      "outputs": [
        {
          "data": {
            "text/plain": [
              "2"
            ]
          },
          "execution_count": 85,
          "metadata": {},
          "output_type": "execute_result"
        }
      ],
      "source": [
        "len(mi_diccionario)"
      ]
    },
    {
      "cell_type": "code",
      "execution_count": null,
      "metadata": {
        "id": "yDkzKO22nDxH",
        "outputId": "d28ffd0f-0de7-45ca-c013-cba8142a9e8c"
      },
      "outputs": [
        {
          "name": "stdout",
          "output_type": "stream",
          "text": [
            "50\n"
          ]
        }
      ],
      "source": [
        "edad = 60\n",
        "edad_compa = 50\n",
        "if (edad < edad_compa):\n",
        "    print(edad)\n",
        "    if (edad < 100):\n",
        "        print(edad + 100)\n",
        "    else:\n",
        "        print(edad - 100)\n",
        "else:\n",
        "    print(edad_compa)"
      ]
    },
    {
      "cell_type": "code",
      "execution_count": null,
      "metadata": {
        "id": "4f29qfV3nDxI",
        "outputId": "16324b2b-889d-4031-daf4-f190df62fb02"
      },
      "outputs": [
        {
          "name": "stdout",
          "output_type": "stream",
          "text": [
            "[0, 1, 2, 3, 4, 5, 6, 7, 8, 9]\n"
          ]
        }
      ],
      "source": [
        "primeros_10 = [0,1,2,3,4,5,6,7,8,9]\n",
        "print(primeros_10)"
      ]
    },
    {
      "cell_type": "code",
      "execution_count": null,
      "metadata": {
        "id": "ggvzS8PNnDxI",
        "outputId": "1cce7674-033b-475a-d377-45e14c469997"
      },
      "outputs": [
        {
          "name": "stdout",
          "output_type": "stream",
          "text": [
            "0\n",
            "2\n",
            "4\n",
            "6\n",
            "8\n",
            "\n",
            "va de nuevo....\n",
            "\n"
          ]
        }
      ],
      "source": [
        "for n in primeros_10:\n",
        "    if (n%2 == 0):\n",
        "        print(n)\n",
        "        primeros_10[n]=0\n",
        "print(\"\\nva de nuevo....\\n\")"
      ]
    },
    {
      "cell_type": "code",
      "execution_count": null,
      "metadata": {
        "id": "H55An3zQnDxJ",
        "outputId": "ac8803a8-07de-48ed-899e-2c34df150e18"
      },
      "outputs": [
        {
          "name": "stdout",
          "output_type": "stream",
          "text": [
            "[0, 1, 0, 3, 0, 5, 0, 7, 0, 9]\n"
          ]
        }
      ],
      "source": [
        "print(primeros_10)"
      ]
    },
    {
      "cell_type": "code",
      "execution_count": null,
      "metadata": {
        "id": "wwosIa5DnDxJ",
        "outputId": "c934e016-8964-4b3e-b49e-f104eefcbcc2"
      },
      "outputs": [
        {
          "name": "stdout",
          "output_type": "stream",
          "text": [
            "0\n",
            "1\n",
            "0\n",
            "3\n",
            "0\n",
            "5\n",
            "0\n",
            "7\n",
            "0\n",
            "9\n",
            "\n",
            "va de nuevo....\n",
            "\n"
          ]
        }
      ],
      "source": [
        "for n in primeros_10:\n",
        "    print(primeros_10[n])\n",
        "print(\"\\nva de nuevo....\\n\")"
      ]
    },
    {
      "cell_type": "code",
      "execution_count": null,
      "metadata": {
        "id": "nTLFjRcqnDxK",
        "outputId": "d0cf1821-b5f6-455f-bdf8-fcea2e650454"
      },
      "outputs": [
        {
          "name": "stdout",
          "output_type": "stream",
          "text": [
            "9\n"
          ]
        }
      ],
      "source": [
        "print(primeros_10[9])"
      ]
    },
    {
      "cell_type": "code",
      "execution_count": null,
      "metadata": {
        "id": "rvAPaR5onDxK"
      },
      "outputs": [],
      "source": [
        "primeros_10 = ['a','b','c','d']"
      ]
    },
    {
      "cell_type": "code",
      "execution_count": null,
      "metadata": {
        "id": "GbYNgawvnDxL",
        "outputId": "c207b20a-3fbe-4f75-a009-a7d0eb2506de"
      },
      "outputs": [
        {
          "ename": "IndexError",
          "evalue": "list index out of range",
          "output_type": "error",
          "traceback": [
            "\u001b[1;31m---------------------------------------------------------------------------\u001b[0m",
            "\u001b[1;31mIndexError\u001b[0m                                Traceback (most recent call last)",
            "\u001b[1;32m<ipython-input-21-1f7c241d828c>\u001b[0m in \u001b[0;36m<module>\u001b[1;34m\u001b[0m\n\u001b[1;32m----> 1\u001b[1;33m \u001b[0mprimeros_10\u001b[0m\u001b[1;33m[\u001b[0m\u001b[1;36m4\u001b[0m\u001b[1;33m]\u001b[0m\u001b[1;33m\u001b[0m\u001b[1;33m\u001b[0m\u001b[0m\n\u001b[0m",
            "\u001b[1;31mIndexError\u001b[0m: list index out of range"
          ]
        }
      ],
      "source": [
        "primeros_10[4]"
      ]
    },
    {
      "cell_type": "code",
      "execution_count": null,
      "metadata": {
        "id": "3vxzG0QonDxL"
      },
      "outputs": [],
      "source": [
        "n = 40\n",
        "sequence = [0,1]"
      ]
    },
    {
      "cell_type": "code",
      "execution_count": null,
      "metadata": {
        "id": "GAGT1xb3nDxL",
        "outputId": "26473eb4-447d-4429-f7bb-1a45cb3ca224"
      },
      "outputs": [
        {
          "name": "stdout",
          "output_type": "stream",
          "text": [
            "[0, 1, 1, 2, 3, 5, 8, 13, 21, 34, 55, 89, 144, 233, 377, 610, 987, 1597, 2584, 4181, 6765, 10946, 17711, 28657, 46368, 75025, 121393, 196418, 317811, 514229, 832040, 1346269, 2178309, 3524578, 5702887, 9227465, 14930352, 24157817, 39088169, 63245986]\n"
          ]
        }
      ],
      "source": [
        "for i in range(2,n):\n",
        "    sequence.append(sequence[i-1]+sequence[i-2])\n",
        "print (sequence)"
      ]
    },
    {
      "cell_type": "code",
      "execution_count": null,
      "metadata": {
        "id": "wy59B2bwnDxM"
      },
      "outputs": [],
      "source": [
        "mi_diccionario = {  'Colores Primarios': ['Rojo','Azul','Amarillo'], \n",
        "                        'Colores secundarios': ['Naranja','Violeta','Verde'], \n",
        "                        'Clave3': 10,\n",
        "                        'Clave4': False}"
      ]
    },
    {
      "cell_type": "code",
      "execution_count": null,
      "metadata": {
        "id": "3oryUIKNnDxM",
        "outputId": "7d46c04f-6dc6-4024-c424-178419a3ffe8"
      },
      "outputs": [
        {
          "name": "stdout",
          "output_type": "stream",
          "text": [
            "['Naranja', 'Violeta', 'Verde']\n"
          ]
        }
      ],
      "source": [
        "print(mi_diccionario['Colores secundarios'])"
      ]
    },
    {
      "cell_type": "code",
      "execution_count": null,
      "metadata": {
        "id": "eXi8guf3nDxN"
      },
      "outputs": [],
      "source": [
        "mi_diccionario['Clave3']=2"
      ]
    },
    {
      "cell_type": "code",
      "execution_count": null,
      "metadata": {
        "id": "0nqHo2SPnDxN",
        "outputId": "88023ec6-f550-4357-80cb-8fddb939b560"
      },
      "outputs": [
        {
          "data": {
            "text/plain": [
              "{'Argentina': 'Buenos Aires', 'Italia': 'Roma', 'Inglaterra': 'Londres'}"
            ]
          },
          "execution_count": 69,
          "metadata": {},
          "output_type": "execute_result"
        }
      ],
      "source": [
        "mi_diccionario"
      ]
    },
    {
      "cell_type": "code",
      "execution_count": null,
      "metadata": {
        "id": "Rodb0JHznDxN"
      },
      "outputs": [],
      "source": [
        "mi_diccionario['Clave5']='Otro ejemplo'"
      ]
    },
    {
      "cell_type": "code",
      "execution_count": null,
      "metadata": {
        "id": "VXcxeDVDnDxO"
      },
      "outputs": [],
      "source": [
        "mi_tupla=(\"Argentina\", \"Italia\", \"Inglaterra\")\n",
        "mi_diccionario={mi_tupla[0]:\"Buenos Aires\", mi_tupla[1]:\"Roma\", mi_tupla[2]:\"Londres\"}"
      ]
    },
    {
      "cell_type": "code",
      "execution_count": null,
      "metadata": {
        "id": "ee-lWcaNnDxO"
      },
      "outputs": [],
      "source": [
        "mi_diccionario={'Clave1':'Valor1', 'Clave2':(1,2,3,4,5)}"
      ]
    },
    {
      "cell_type": "code",
      "execution_count": null,
      "metadata": {
        "id": "EkofKeJ0nDxO",
        "outputId": "08229aad-96ff-44d9-e0c9-b9b493427af7"
      },
      "outputs": [
        {
          "data": {
            "text/plain": [
              "tuple"
            ]
          },
          "execution_count": 73,
          "metadata": {},
          "output_type": "execute_result"
        }
      ],
      "source": [
        "type(mi_diccionario['Clave2'])"
      ]
    },
    {
      "cell_type": "code",
      "execution_count": null,
      "metadata": {
        "id": "82pfmTDRnDxP"
      },
      "outputs": [],
      "source": [
        "mi_diccionario={'Clave1':'Valor1', 'Clave2':{'numeros':[1,2,3,4,5]}}"
      ]
    },
    {
      "cell_type": "code",
      "execution_count": null,
      "metadata": {
        "id": "qdOaFFOPnDxP",
        "outputId": "d9b76843-37d9-4aa5-9e3b-ea1736d00676"
      },
      "outputs": [
        {
          "data": {
            "text/plain": [
              "dict"
            ]
          },
          "execution_count": 75,
          "metadata": {},
          "output_type": "execute_result"
        }
      ],
      "source": [
        "type(mi_diccionario['Clave2'])"
      ]
    },
    {
      "cell_type": "code",
      "execution_count": null,
      "metadata": {
        "id": "5TADitZanDxQ"
      },
      "outputs": [],
      "source": [
        "mi_diccionario={'Clave1':'Valor1', 'Clave2':[1,2,3,4,5]}"
      ]
    },
    {
      "cell_type": "code",
      "execution_count": null,
      "metadata": {
        "id": "EgxEWM9ZnDxQ",
        "outputId": "06763da7-6451-45ec-9b1a-91a3b2422d67"
      },
      "outputs": [
        {
          "data": {
            "text/plain": [
              "list"
            ]
          },
          "execution_count": 77,
          "metadata": {},
          "output_type": "execute_result"
        }
      ],
      "source": [
        "type(mi_diccionario['Clave2'])"
      ]
    },
    {
      "cell_type": "code",
      "execution_count": null,
      "metadata": {
        "id": "6TP1donwnDxQ",
        "outputId": "94efdf68-bfae-4ecc-aa6c-ea066ffa46f4"
      },
      "outputs": [
        {
          "name": "stdout",
          "output_type": "stream",
          "text": [
            "dict_keys(['Clave1', 'Clave2'])\n"
          ]
        }
      ],
      "source": [
        "print(mi_diccionario.keys())"
      ]
    },
    {
      "cell_type": "code",
      "execution_count": null,
      "metadata": {
        "id": "jPTIkU6SnDxR",
        "outputId": "58f94b62-229e-46b3-d0f5-4c42cf188679"
      },
      "outputs": [
        {
          "name": "stdout",
          "output_type": "stream",
          "text": [
            "dict_values(['Valor1', [1, 2, 3, 4, 5]])\n"
          ]
        }
      ],
      "source": [
        "print(mi_diccionario.values())"
      ]
    },
    {
      "cell_type": "code",
      "execution_count": null,
      "metadata": {
        "id": "oYRTD0MgnDxR",
        "outputId": "c8e6d67b-888a-419a-eb01-5227c961f133"
      },
      "outputs": [
        {
          "data": {
            "text/plain": [
              "3"
            ]
          },
          "execution_count": 82,
          "metadata": {},
          "output_type": "execute_result"
        }
      ],
      "source": [
        "len(mi_tupla)"
      ]
    },
    {
      "cell_type": "code",
      "execution_count": null,
      "metadata": {
        "id": "ReEg-G7EnDxR"
      },
      "outputs": [],
      "source": [
        "def imprimir_valor_variable(var):\n",
        "    print('El valor de la variable es' + str(var))"
      ]
    },
    {
      "cell_type": "code",
      "execution_count": null,
      "metadata": {
        "id": "vdJcjk4FnDxR",
        "outputId": "9c0457f5-61bb-447b-8f0b-e65823dae89a"
      },
      "outputs": [
        {
          "name": "stdout",
          "output_type": "stream",
          "text": [
            "El valor de la variable es['Rojo', 'Azul', 'Amarillo', 'Negro', 'Marrón', 'Gris']\n"
          ]
        }
      ],
      "source": [
        "imprimir_valor_variable(mi_lista)"
      ]
    },
    {
      "cell_type": "code",
      "execution_count": null,
      "metadata": {
        "id": "zOa67e8-nDxS"
      },
      "outputs": [],
      "source": [
        "def ordenar_dos_numeros(num1, num2):\n",
        "        if (num1 > num2):\n",
        "            return num2, num1\n",
        "        else:\n",
        "            return num1, num2"
      ]
    },
    {
      "cell_type": "code",
      "execution_count": null,
      "metadata": {
        "id": "CqSTgZRbnDxS",
        "outputId": "b2b4ded6-b5cd-48a7-da36-95faf1dc9dfc"
      },
      "outputs": [
        {
          "data": {
            "text/plain": [
              "(1, 8)"
            ]
          },
          "execution_count": 4,
          "metadata": {},
          "output_type": "execute_result"
        }
      ],
      "source": [
        "ordenar_dos_numeros(8,1)"
      ]
    },
    {
      "cell_type": "code",
      "execution_count": null,
      "metadata": {
        "id": "hh1uhd4NnDxS"
      },
      "outputs": [],
      "source": [
        "def factorial(numero):\n",
        "    '''\n",
        "    Devuelve el factorial\n",
        "    '''\n",
        "    if (numero > 1):\n",
        "        numero = numero * factorial(numero - 1)\n",
        "    return numero"
      ]
    },
    {
      "cell_type": "code",
      "execution_count": null,
      "metadata": {
        "id": "5GRJjDjOnDxT",
        "outputId": "660f963d-174c-44ac-9782-2e9f0955525f"
      },
      "outputs": [
        {
          "data": {
            "text/plain": [
              "6"
            ]
          },
          "execution_count": 11,
          "metadata": {},
          "output_type": "execute_result"
        }
      ],
      "source": [
        "factorial(3)"
      ]
    },
    {
      "cell_type": "code",
      "execution_count": null,
      "metadata": {
        "id": "HD8nGQdXnDxT",
        "outputId": "4f0946dd-d6e9-48c3-fb71-863cd2133959"
      },
      "outputs": [
        {
          "name": "stdout",
          "output_type": "stream",
          "text": [
            "Help on function factorial in module __main__:\n",
            "\n",
            "factorial(numero)\n",
            "    Devuelve el factorial\n",
            "\n"
          ]
        }
      ],
      "source": [
        "help(factorial)"
      ]
    },
    {
      "cell_type": "code",
      "execution_count": null,
      "metadata": {
        "id": "9kUI4qW4nDxT"
      },
      "outputs": [],
      "source": [
        "def dividir(dividendo, divisor = 1):\n",
        "    if (divisor == 0):\n",
        "        return 'No se puede dividir por cero'\n",
        "    else:\n",
        "        return dividendo / divisor"
      ]
    },
    {
      "cell_type": "code",
      "execution_count": null,
      "metadata": {
        "id": "5bhNcJKxnDxU",
        "outputId": "24df1ae2-2802-4cad-a65e-36ff60dd80ab"
      },
      "outputs": [
        {
          "name": "stdout",
          "output_type": "stream",
          "text": [
            "10.0\n"
          ]
        }
      ],
      "source": [
        "print(dividir(10))"
      ]
    },
    {
      "cell_type": "code",
      "execution_count": null,
      "metadata": {
        "id": "qHt9nQGtnDxU",
        "outputId": "b56a3390-dae2-4539-ab49-63c6acd78270"
      },
      "outputs": [
        {
          "ename": "NameError",
          "evalue": "name 'divisor' is not defined",
          "output_type": "error",
          "traceback": [
            "\u001b[1;31m---------------------------------------------------------------------------\u001b[0m",
            "\u001b[1;31mNameError\u001b[0m                                 Traceback (most recent call last)",
            "\u001b[1;32m~\\AppData\\Local\\Temp/ipykernel_10044/1862935505.py\u001b[0m in \u001b[0;36m<module>\u001b[1;34m\u001b[0m\n\u001b[1;32m----> 1\u001b[1;33m \u001b[0mprint\u001b[0m\u001b[1;33m(\u001b[0m\u001b[0mdivisor\u001b[0m\u001b[1;33m)\u001b[0m\u001b[1;33m\u001b[0m\u001b[1;33m\u001b[0m\u001b[0m\n\u001b[0m",
            "\u001b[1;31mNameError\u001b[0m: name 'divisor' is not defined"
          ]
        }
      ],
      "source": [
        "print(divisor)"
      ]
    },
    {
      "cell_type": "code",
      "execution_count": null,
      "metadata": {
        "id": "aJnqOVCInDxU"
      },
      "outputs": [],
      "source": [
        "divisor = 5\n",
        "def dividir(dividendo):\n",
        "    if (divisor == 0):\n",
        "        return 'No se puede dividir por cero'\n",
        "    else:\n",
        "        return dividendo / divisor"
      ]
    },
    {
      "cell_type": "code",
      "execution_count": null,
      "metadata": {
        "id": "kKH-O03LnDxV",
        "outputId": "9fffae1c-1aff-4e7e-c370-d6d4fd58e7b8"
      },
      "outputs": [
        {
          "name": "stdout",
          "output_type": "stream",
          "text": [
            "2.0\n"
          ]
        }
      ],
      "source": [
        "print(dividir(10))"
      ]
    },
    {
      "cell_type": "code",
      "execution_count": null,
      "metadata": {
        "id": "VyD0SjmYnDxV",
        "outputId": "a7f2d711-8f11-452f-9429-a1da21d34f2f"
      },
      "outputs": [
        {
          "name": "stdout",
          "output_type": "stream",
          "text": [
            "5\n"
          ]
        }
      ],
      "source": [
        "print(divisor)"
      ]
    },
    {
      "cell_type": "code",
      "execution_count": null,
      "metadata": {
        "id": "88HJlwsOnDxV"
      },
      "outputs": [],
      "source": [
        "divisor = 5\n",
        "def dividir(dividendo, divisor = 1):\n",
        "    if (divisor == 0):\n",
        "        return 'No se puede dividir por cero'\n",
        "    else:\n",
        "        return dividendo / divisor"
      ]
    },
    {
      "cell_type": "code",
      "execution_count": null,
      "metadata": {
        "id": "bRhdIrsfnDxW",
        "outputId": "4d4f1152-6daa-40ed-f6d0-0831ec1beab5"
      },
      "outputs": [
        {
          "name": "stdout",
          "output_type": "stream",
          "text": [
            "10.0\n"
          ]
        }
      ],
      "source": [
        "print(dividir(10))"
      ]
    },
    {
      "cell_type": "code",
      "execution_count": null,
      "metadata": {
        "id": "djaaIbfXnDxW",
        "outputId": "956f0501-bdc9-46c6-cd80-1f51ad84c87c"
      },
      "outputs": [
        {
          "name": "stdout",
          "output_type": "stream",
          "text": [
            "5\n"
          ]
        }
      ],
      "source": [
        "print(divisor)"
      ]
    },
    {
      "cell_type": "code",
      "execution_count": null,
      "metadata": {
        "id": "sPl2i2nknDxW",
        "outputId": "9f204f83-b1c3-417e-b1d4-c51ea1ded3b3"
      },
      "outputs": [
        {
          "data": {
            "text/plain": [
              "12"
            ]
          },
          "execution_count": 23,
          "metadata": {},
          "output_type": "execute_result"
        }
      ],
      "source": [
        "lambda_producto = lambda x, y: x * y\n",
        "lambda_producto(3, 4)"
      ]
    },
    {
      "cell_type": "code",
      "execution_count": null,
      "metadata": {
        "id": "s5EywIVLnDxX"
      },
      "outputs": [],
      "source": [
        "class Animal:\n",
        "    '''\n",
        "    En esta clase se crean los animales\n",
        "    '''\n",
        "    def __init__(self, especie, edad, color):\n",
        "        self.especie = especie\n",
        "        self.edad = edad\n",
        "        self.color = color\n",
        "    def mePresento(self):\n",
        "        print('Hola, soy ', self.especie, ', de color', self.color, ' y tengo ', self.edad, ' años')\n",
        "    def cumplirAños(self):\n",
        "        self.edad = self.edad + 1"
      ]
    },
    {
      "cell_type": "code",
      "execution_count": null,
      "metadata": {
        "id": "gvKPcVubnDxX",
        "outputId": "7eaea7ca-1db7-4674-ac1a-30d313aaf96e"
      },
      "outputs": [
        {
          "name": "stdout",
          "output_type": "stream",
          "text": [
            "Ratón\n",
            "2\n",
            "Liebre\n",
            "3\n"
          ]
        }
      ],
      "source": [
        "a1 = Animal('Ratón', 2, 'Marrón')\n",
        "print(a1.especie)\n",
        "print(a1.edad)\n",
        "\n",
        "a2 = Animal('Liebre', 3, 'Gris')\n",
        "print(a2.especie)\n",
        "print(a2.edad)"
      ]
    },
    {
      "cell_type": "code",
      "execution_count": null,
      "metadata": {
        "id": "EBJyqQt9nDxX",
        "outputId": "74ff950b-766a-4929-c92e-0267b5c67214"
      },
      "outputs": [
        {
          "name": "stdout",
          "output_type": "stream",
          "text": [
            "Hola, soy  Ratón , de color Marrón  y tengo  2  años\n"
          ]
        }
      ],
      "source": [
        "a1.mePresento()"
      ]
    },
    {
      "cell_type": "code",
      "execution_count": null,
      "metadata": {
        "id": "Nsv4X0lTnDxY",
        "outputId": "f7f93cb3-1723-4816-e0d5-d00c6be0d7ff"
      },
      "outputs": [
        {
          "name": "stdout",
          "output_type": "stream",
          "text": [
            "Hola, soy  Liebre , de color Gris  y tengo  3  años\n"
          ]
        }
      ],
      "source": [
        "a2.mePresento()"
      ]
    },
    {
      "cell_type": "code",
      "execution_count": null,
      "metadata": {
        "id": "bcv5A4o8nDxY",
        "outputId": "87c572d1-bf74-4313-8d52-8adf9dc98d0c"
      },
      "outputs": [
        {
          "name": "stdout",
          "output_type": "stream",
          "text": [
            "Hola, soy  Ratón , de color Marrón  y tengo  3  años\n"
          ]
        }
      ],
      "source": [
        "a1.cumplirAños()\n",
        "a1.mePresento()"
      ]
    },
    {
      "cell_type": "code",
      "execution_count": null,
      "metadata": {
        "id": "sYurjVA4nDxY"
      },
      "outputs": [],
      "source": [
        "# Caja Negra\n",
        "import unittest\n"
      ]
    },
    {
      "cell_type": "code",
      "execution_count": null,
      "metadata": {
        "id": "vwpeAXHsnDxZ"
      },
      "outputs": [],
      "source": [
        "\n",
        "def suma(num_1, num_2):\n",
        "    return num_1 + num_2"
      ]
    },
    {
      "cell_type": "code",
      "execution_count": null,
      "metadata": {
        "id": "bat2AninnDxZ"
      },
      "outputs": [],
      "source": [
        "\n",
        "class CajaNegraTest(unittest.TestCase):\n",
        "\n",
        "    def test_suma_dos_positivos(self):\n",
        "        num_1 = 10\n",
        "        num_2 = 5\n",
        "\n",
        "        resultado = suma(num_1, num_2)\n",
        "\n",
        "        self.assertEqual(resultado, 15)\n",
        "\n",
        "    def test_suma_dos_negativos(self):\n",
        "        num_1 = -10\n",
        "        num_2 = -7\n",
        "\n",
        "        resultado = suma(num_1, num_2)\n",
        "\n",
        "        self.assertEqual(resultado, -17)\n"
      ]
    },
    {
      "cell_type": "code",
      "execution_count": null,
      "metadata": {
        "id": "bbDBzcFTnDxZ",
        "outputId": "276accc2-4bdd-4978-9a86-372372e089d0"
      },
      "outputs": [
        {
          "name": "stderr",
          "output_type": "stream",
          "text": [
            "test_suma_dos_negativos (__main__.CajaNegraTest) ... ok\n",
            "test_suma_dos_positivos (__main__.CajaNegraTest) ... ok\n",
            "\n",
            "----------------------------------------------------------------------\n",
            "Ran 2 tests in 0.004s\n",
            "\n",
            "OK\n"
          ]
        },
        {
          "data": {
            "text/plain": [
              "<unittest.main.TestProgram at 0x2226bd08400>"
            ]
          },
          "execution_count": 47,
          "metadata": {},
          "output_type": "execute_result"
        }
      ],
      "source": [
        "unittest.main(argv=[''], verbosity=2, exit=False)"
      ]
    },
    {
      "cell_type": "code",
      "execution_count": null,
      "metadata": {
        "id": "9wUNrarrnDxa"
      },
      "outputs": [],
      "source": [
        "if __name__ == '__main__':\n",
        "    unittest.main()"
      ]
    },
    {
      "cell_type": "code",
      "execution_count": null,
      "metadata": {
        "id": "1Nm3Tl3mnDxa",
        "outputId": "a4a8517a-8182-4e7f-89db-31f7b86d2563"
      },
      "outputs": [
        {
          "name": "stderr",
          "output_type": "stream",
          "text": [
            "test_suma_dos_negativos (__main__.CajaNegraTest) ... ok\n",
            "test_suma_dos_positivos (__main__.CajaNegraTest) ... ok\n",
            "test_es_mayor_de_edad (__main__.PruebaDeCristalTest) ... ok\n",
            "test_es_menor_de_edad (__main__.PruebaDeCristalTest) ... ok\n",
            "\n",
            "----------------------------------------------------------------------\n",
            "Ran 4 tests in 0.006s\n",
            "\n",
            "OK\n"
          ]
        },
        {
          "data": {
            "text/plain": [
              "<unittest.main.TestProgram at 0x2226bd153d0>"
            ]
          },
          "execution_count": 49,
          "metadata": {},
          "output_type": "execute_result"
        }
      ],
      "source": [
        "#Caja de Cristal\n",
        "import unittest\n",
        "\n",
        "def es_mayor_de_edad(edad):\n",
        "    if edad >= 18:\n",
        "        return True\n",
        "    else:\n",
        "        return False\n",
        "\n",
        "class PruebaDeCristalTest(unittest.TestCase):\n",
        "\n",
        "    def test_es_mayor_de_edad(self):\n",
        "        edad = 20\n",
        "\n",
        "        resultado = es_mayor_de_edad(edad)\n",
        "\n",
        "        self.assertEqual(resultado, True)\n",
        "\n",
        "    def test_es_menor_de_edad(self):\n",
        "        edad = 15\n",
        "\n",
        "        resultado = es_mayor_de_edad(edad)\n",
        "\n",
        "        self.assertEqual(resultado, False)\n",
        "\n",
        "unittest.main(argv=[''], verbosity=2, exit=False)"
      ]
    },
    {
      "cell_type": "code",
      "execution_count": null,
      "metadata": {
        "id": "xY1pAo8MnDxb"
      },
      "outputs": [],
      "source": [
        "if __name__ == '__main__':\n",
        "    unittest.main()"
      ]
    },
    {
      "cell_type": "code",
      "execution_count": null,
      "metadata": {
        "id": "u5-jS_7OnDxc"
      },
      "outputs": [],
      "source": [
        "# Python\n",
        "\n",
        "def busca_pais(paises, pais):\n",
        "    '''\n",
        "    Paises es un diccionario. Pais es la llave.\n",
        "    Codigo con el principio EAFP.\n",
        "    '''    \n",
        "    try:\n",
        "        return paises[pais]\n",
        "    except KeyError:\n",
        "        return None"
      ]
    },
    {
      "cell_type": "code",
      "execution_count": null,
      "metadata": {
        "id": "Pms7-FXdnDxc",
        "outputId": "5eb2c44a-066a-4b3e-8b53-5aa03f442d4e"
      },
      "outputs": [
        {
          "name": "stdout",
          "output_type": "stream",
          "text": [
            "division by zero\n",
            "[0, 1, 2, 3, 4, 5, 6, 7, 8, 9]\n"
          ]
        }
      ],
      "source": [
        "def divide_elementos_de_lista(lista, divisor):\n",
        "    '''\n",
        "    Cada elemento de una lista es dividida por un divisor definido.\n",
        "    En caso de error de tipo ZeroDivisionError que\n",
        "    significa error al dividir en cero\n",
        "    la función devuelve la lista inicial\n",
        "    '''\n",
        "    try:\n",
        "        return [i / divisor for i in lista]\n",
        "    \n",
        "    except ZeroDivisionError as e:\n",
        "        print(e)\n",
        "        return lista\n",
        "\n",
        "lista = list(range(10))\n",
        "divisor = 0\n",
        "\n",
        "print(divide_elementos_de_lista(lista, divisor))"
      ]
    },
    {
      "cell_type": "code",
      "execution_count": null,
      "metadata": {
        "id": "F1gY5_75nDxd",
        "outputId": "10f335ce-6645-4f8e-faa5-cd9ceb0a7444"
      },
      "outputs": [
        {
          "name": "stdout",
          "output_type": "stream",
          "text": [
            "[0.0, 0.3333333333333333, 0.6666666666666666, 1.0, 1.3333333333333333, 1.6666666666666667, 2.0, 2.3333333333333335, 2.6666666666666665, 3.0]\n"
          ]
        }
      ],
      "source": [
        "divisor = 3\n",
        "print(divide_elementos_de_lista(lista, divisor))"
      ]
    },
    {
      "cell_type": "code",
      "execution_count": null,
      "metadata": {
        "id": "y25NzsiznDxd",
        "outputId": "e3fbe7e3-b7e1-4b5c-ffc2-b774409a5a50"
      },
      "outputs": [
        {
          "name": "stdout",
          "output_type": "stream",
          "text": [
            "5\n",
            "4\n",
            "9\n",
            "2\n"
          ]
        }
      ],
      "source": [
        "lista = [5, 4, 9, 2]\n",
        "i = 0\n",
        "while i < len(lista):\n",
        "    elemento = lista[i]\n",
        "    print(elemento)\n",
        "    i += 1"
      ]
    },
    {
      "cell_type": "code",
      "execution_count": null,
      "metadata": {
        "id": "Z8-pkDW7nDxe",
        "outputId": "2b3b6d3f-8f77-473f-8fe6-4348fb54a1db"
      },
      "outputs": [
        {
          "name": "stdout",
          "output_type": "stream",
          "text": [
            "5\n",
            "4\n",
            "9\n",
            "2\n"
          ]
        }
      ],
      "source": [
        "lista = [5, 4, 9, 2]\n",
        "for elemento in lista:\n",
        "    print(elemento)"
      ]
    },
    {
      "cell_type": "code",
      "execution_count": null,
      "metadata": {
        "id": "WaFwGPIcnDxe",
        "outputId": "379c87f6-e86d-4780-aeda-3c29b5375c9e"
      },
      "outputs": [
        {
          "name": "stdout",
          "output_type": "stream",
          "text": [
            "cadena True\n",
            "numero False\n"
          ]
        },
        {
          "name": "stderr",
          "output_type": "stream",
          "text": [
            "C:\\Users\\lopez\\AppData\\Local\\Temp/ipykernel_10044/1562366592.py:1: DeprecationWarning: Using or importing the ABCs from 'collections' instead of from 'collections.abc' is deprecated since Python 3.3, and in 3.10 it will stop working\n",
            "  from collections import Iterable\n"
          ]
        }
      ],
      "source": [
        "from collections import Iterable\n",
        "cadena = \"Hola\"\n",
        "numero = 3\n",
        "print(\"cadena\", isinstance(cadena, Iterable))\n",
        "print(\"numero\", isinstance(numero, Iterable))"
      ]
    },
    {
      "cell_type": "code",
      "execution_count": null,
      "metadata": {
        "id": "WlMT53qcnDxf",
        "outputId": "15f6bf66-dff2-4e2f-878a-2c8557b25f93"
      },
      "outputs": [
        {
          "name": "stdout",
          "output_type": "stream",
          "text": [
            "['H', 'o', 'l', 'a']\n"
          ]
        }
      ],
      "source": [
        "print(list(\"Hola\"))"
      ]
    },
    {
      "cell_type": "code",
      "execution_count": null,
      "metadata": {
        "id": "QBCc681jnDxf",
        "outputId": "61fd604f-219a-47a4-c4ba-e4f0f383739e"
      },
      "outputs": [
        {
          "name": "stdout",
          "output_type": "stream",
          "text": [
            "6\n"
          ]
        }
      ],
      "source": [
        "print(sum([1, 2, 3]))"
      ]
    },
    {
      "cell_type": "code",
      "execution_count": null,
      "metadata": {
        "id": "RT2c_RGunDxf",
        "outputId": "fe5f417c-bde9-4078-c333-20c2ad287558"
      },
      "outputs": [
        {
          "name": "stdout",
          "output_type": "stream",
          "text": [
            "H-o-l-a\n"
          ]
        }
      ],
      "source": [
        "print(\"-\".join(\"Hola\"))"
      ]
    },
    {
      "cell_type": "code",
      "execution_count": null,
      "metadata": {
        "id": "IRpiLoJMnDxg",
        "outputId": "b5c4936e-df18-4e78-be0b-f4f305e2f51f"
      },
      "outputs": [
        {
          "name": "stdout",
          "output_type": "stream",
          "text": [
            "a\n",
            "b\n",
            "c\n"
          ]
        }
      ],
      "source": [
        "mi_dict = {'a':1, 'b':2, 'c':3}\n",
        "for i in mi_dict:\n",
        "    print(i)"
      ]
    },
    {
      "cell_type": "code",
      "execution_count": null,
      "metadata": {
        "id": "WpnicknonDxg"
      },
      "outputs": [],
      "source": [
        "libro = ['página1', 'página2', 'página3', 'página4']\n",
        "marcapaginas = iter(libro)"
      ]
    },
    {
      "cell_type": "code",
      "execution_count": null,
      "metadata": {
        "id": "DY7ZHI4EnDxh",
        "outputId": "cb031b42-cf51-4b24-9a62-d2280a9e96ed"
      },
      "outputs": [
        {
          "name": "stdout",
          "output_type": "stream",
          "text": [
            "página1\n",
            "página2\n",
            "página3\n",
            "página4\n"
          ]
        }
      ],
      "source": [
        "print(next(marcapaginas))\n",
        "print(next(marcapaginas))\n",
        "print(next(marcapaginas))\n",
        "print(next(marcapaginas))"
      ]
    },
    {
      "cell_type": "code",
      "execution_count": null,
      "metadata": {
        "id": "_6GZ6hE1nDxh",
        "outputId": "887a1d51-23df-4f98-fa33-f6d6626e1b4b"
      },
      "outputs": [
        {
          "ename": "StopIteration",
          "evalue": "",
          "output_type": "error",
          "traceback": [
            "\u001b[1;31m---------------------------------------------------------------------------\u001b[0m",
            "\u001b[1;31mStopIteration\u001b[0m                             Traceback (most recent call last)",
            "\u001b[1;32m~\\AppData\\Local\\Temp/ipykernel_10044/1391636315.py\u001b[0m in \u001b[0;36m<module>\u001b[1;34m\u001b[0m\n\u001b[1;32m----> 1\u001b[1;33m \u001b[0mprint\u001b[0m\u001b[1;33m(\u001b[0m\u001b[0mnext\u001b[0m\u001b[1;33m(\u001b[0m\u001b[0mmarcapaginas\u001b[0m\u001b[1;33m)\u001b[0m\u001b[1;33m)\u001b[0m\u001b[1;33m\u001b[0m\u001b[1;33m\u001b[0m\u001b[0m\n\u001b[0m",
            "\u001b[1;31mStopIteration\u001b[0m: "
          ]
        }
      ],
      "source": [
        "print(next(marcapaginas))"
      ]
    },
    {
      "cell_type": "code",
      "execution_count": null,
      "metadata": {
        "id": "jA7ODuxYnDxh",
        "outputId": "54afee06-c8a0-4b84-bd2d-7a6ee2519ebc"
      },
      "outputs": [
        {
          "data": {
            "text/plain": [
              "2"
            ]
          },
          "execution_count": 99,
          "metadata": {},
          "output_type": "execute_result"
        }
      ],
      "source": [
        "14 % 3"
      ]
    },
    {
      "cell_type": "code",
      "execution_count": null,
      "metadata": {
        "id": "RnFq1FzDnDxi",
        "outputId": "69e76d12-ef58-4de6-f816-87e073691615"
      },
      "outputs": [
        {
          "data": {
            "text/plain": [
              "4"
            ]
          },
          "execution_count": 97,
          "metadata": {},
          "output_type": "execute_result"
        }
      ],
      "source": [
        "14 // 3"
      ]
    },
    {
      "cell_type": "code",
      "execution_count": null,
      "metadata": {
        "id": "EdDr16V0nDxi"
      },
      "outputs": [],
      "source": [
        "a = [1,2]\n"
      ]
    },
    {
      "cell_type": "code",
      "execution_count": null,
      "metadata": {
        "id": "g0Ucjw8NnDxi"
      },
      "outputs": [],
      "source": [
        "b = a.copy()"
      ]
    },
    {
      "cell_type": "code",
      "execution_count": null,
      "metadata": {
        "id": "NuPARydHnDxi"
      },
      "outputs": [],
      "source": [
        "b.append(3)"
      ]
    },
    {
      "cell_type": "code",
      "execution_count": null,
      "metadata": {
        "id": "v8X40x7TnDxj",
        "outputId": "2990e281-a8c8-4a57-e5b3-9d824bae0fdc"
      },
      "outputs": [
        {
          "name": "stdout",
          "output_type": "stream",
          "text": [
            "[1, 2]\n"
          ]
        }
      ],
      "source": [
        "print(a)"
      ]
    },
    {
      "cell_type": "code",
      "execution_count": null,
      "metadata": {
        "id": "OrlZ0RFinDxj",
        "outputId": "380ac35e-885f-46c8-e5c6-128bd8cc922a"
      },
      "outputs": [
        {
          "name": "stdout",
          "output_type": "stream",
          "text": [
            "[1, 2, 3]\n"
          ]
        }
      ],
      "source": [
        "print(b)"
      ]
    },
    {
      "cell_type": "code",
      "execution_count": null,
      "metadata": {
        "id": "ppHiMQ2ynDxj"
      },
      "outputs": [],
      "source": [
        "b.append(4)"
      ]
    },
    {
      "cell_type": "code",
      "execution_count": null,
      "metadata": {
        "id": "462go9acnDxk",
        "outputId": "05f7eab6-5ecc-4952-be5a-ca3746984768"
      },
      "outputs": [
        {
          "name": "stdout",
          "output_type": "stream",
          "text": [
            "[1, 2, 3]\n"
          ]
        }
      ],
      "source": [
        "print(a)"
      ]
    },
    {
      "cell_type": "code",
      "execution_count": null,
      "metadata": {
        "id": "Kjqcmrf2nDxk",
        "outputId": "de14f4e8-028b-4034-fe9b-646dc98b1609"
      },
      "outputs": [
        {
          "name": "stdout",
          "output_type": "stream",
          "text": [
            "[1, 2, 3, 4]\n"
          ]
        }
      ],
      "source": [
        "print(b)"
      ]
    },
    {
      "cell_type": "code",
      "execution_count": null,
      "metadata": {
        "id": "hSt_UwHInDxl"
      },
      "outputs": [],
      "source": [
        "x = 7"
      ]
    },
    {
      "cell_type": "code",
      "execution_count": null,
      "metadata": {
        "id": "_Z08K9yynDxl",
        "outputId": "0b481ff7-c475-4657-f0b2-1015c1a2c994"
      },
      "outputs": [
        {
          "data": {
            "text/plain": [
              "2"
            ]
          },
          "execution_count": 34,
          "metadata": {},
          "output_type": "execute_result"
        }
      ],
      "source": [
        "7 & 7"
      ]
    },
    {
      "cell_type": "code",
      "execution_count": null,
      "metadata": {
        "id": "N6RUJvPAnDxl",
        "outputId": "b2a6080c-627d-4940-9e38-f1c2174b9498"
      },
      "outputs": [
        {
          "name": "stdout",
          "output_type": "stream",
          "text": [
            "2\n"
          ]
        }
      ],
      "source": [
        "print(x)"
      ]
    },
    {
      "cell_type": "code",
      "execution_count": null,
      "metadata": {
        "id": "o3phk5GenDxm"
      },
      "outputs": [],
      "source": [
        "a = [1, 2]"
      ]
    },
    {
      "cell_type": "code",
      "execution_count": null,
      "metadata": {
        "id": "z2lIzQQ2nDxn"
      },
      "outputs": [],
      "source": [
        "b = [\"Uno\", \"Dos\"]"
      ]
    },
    {
      "cell_type": "code",
      "execution_count": null,
      "metadata": {
        "id": "STPRsF-hnDxn"
      },
      "outputs": [],
      "source": [
        "c = zip(a, b)"
      ]
    },
    {
      "cell_type": "code",
      "execution_count": null,
      "metadata": {
        "id": "fHnQ5pfwnDxo",
        "outputId": "d6809093-9956-42b1-958a-ad2dbf73540d"
      },
      "outputs": [
        {
          "data": {
            "text/plain": [
              "zip"
            ]
          },
          "execution_count": 39,
          "metadata": {},
          "output_type": "execute_result"
        }
      ],
      "source": [
        "type(c)"
      ]
    },
    {
      "cell_type": "code",
      "execution_count": null,
      "metadata": {
        "id": "a7rlU3qHnDxo",
        "outputId": "b9647ae3-a59a-4b96-86e1-10d4e097b344"
      },
      "outputs": [
        {
          "data": {
            "text/plain": [
              "[(1, 'Uno'), (2, 'Dos')]"
            ]
          },
          "execution_count": 40,
          "metadata": {},
          "output_type": "execute_result"
        }
      ],
      "source": [
        "list(c)"
      ]
    },
    {
      "cell_type": "code",
      "execution_count": null,
      "metadata": {
        "id": "r9Uhnnv5nDxp"
      },
      "outputs": [],
      "source": [
        "frase = \"El perro de san roque no tiene rabo\""
      ]
    },
    {
      "cell_type": "code",
      "execution_count": null,
      "metadata": {
        "id": "ilC3rc0VnDxp",
        "outputId": "29061933-ef7a-4727-d69d-c269667d3da5"
      },
      "outputs": [
        {
          "name": "stdout",
          "output_type": "stream",
          "text": [
            "['r', 'r', 'r', 'r']\n"
          ]
        }
      ],
      "source": [
        "errores = [i for i in frase if i == 'r']\n",
        "print(errores)"
      ]
    },
    {
      "cell_type": "code",
      "execution_count": null,
      "metadata": {
        "id": "WvoGQXbMnDxq",
        "outputId": "36658117-41ef-4966-afd4-04c8e7588c49"
      },
      "outputs": [
        {
          "name": "stdout",
          "output_type": "stream",
          "text": [
            "2\n",
            "3\n",
            "4\n",
            "5\n",
            "6\n",
            "7\n",
            "8\n",
            "9\n",
            "10\n",
            "11\n",
            "12\n",
            "13\n",
            "14\n",
            "15\n",
            "16\n",
            "17\n",
            "18\n",
            "19\n",
            "20\n",
            "21\n",
            "22\n",
            "23\n",
            "24\n",
            "25\n",
            "26\n",
            "27\n",
            "28\n",
            "29\n",
            "30\n",
            "31\n",
            "32\n",
            "33\n",
            "34\n",
            "35\n",
            "36\n",
            "37\n",
            "38\n",
            "39\n"
          ]
        }
      ],
      "source": [
        "n = 40 \n",
        "sequence = [0,1] \n",
        "for i in range(2,n): \n",
        "    sequence.append(sequence[i-1]+sequence[i-2]) \n",
        "    print (sequence)"
      ]
    },
    {
      "cell_type": "code",
      "execution_count": null,
      "metadata": {
        "id": "KoiwpS7lnDxr",
        "outputId": "b4830f4f-9a8f-4429-a2c6-e4929613079b"
      },
      "outputs": [
        {
          "data": {
            "text/plain": [
              "8"
            ]
          },
          "execution_count": 3,
          "metadata": {},
          "output_type": "execute_result"
        }
      ],
      "source": [
        "4 << 1"
      ]
    }
  ],
  "metadata": {
    "kernelspec": {
      "display_name": "Python 3 (ipykernel)",
      "language": "python",
      "name": "python3"
    },
    "language_info": {
      "codemirror_mode": {
        "name": "ipython",
        "version": 3
      },
      "file_extension": ".py",
      "mimetype": "text/x-python",
      "name": "python",
      "nbconvert_exporter": "python",
      "pygments_lexer": "ipython3",
      "version": "3.9.7"
    },
    "colab": {
      "name": "Preliminares - 01.ipynb",
      "provenance": [],
      "include_colab_link": true
    }
  },
  "nbformat": 4,
  "nbformat_minor": 0
}